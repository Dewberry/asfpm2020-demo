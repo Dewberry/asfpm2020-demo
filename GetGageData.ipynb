{
 "cells": [
  {
   "cell_type": "markdown",
   "metadata": {},
   "source": [
    "# ASFPM 2020 Demo\n",
    "\n",
    "## USGS API\n",
    "\n",
    "Examples of how to retrieve data directly from the USGS REST API for:\n",
    "\n",
    "##### I. Peak Streamflow\n",
    "\n",
    "##### II. Daily Streamflow\n",
    "\n",
    "##### III. Instantaneous Streamflow\n",
    "\n",
    "---\n",
    "\n",
    "#### Useful Links:\n",
    "\n",
    "[REST Web Services](https://waterservices.usgs.gov/rest/): REST is a \"URL friendly\" way to retrieve data over the web.\n",
    "\n",
    "[USGS Gages Map](https://maps.waterdata.usgs.gov/mapper/index.html): Retrieve a Gage ID from an online map."
   ]
  },
  {
   "cell_type": "code",
   "execution_count": 1,
   "metadata": {},
   "outputs": [],
   "source": [
    "import requests\n",
    "import pandas as pd\n",
    "from matplotlib import pyplot as plt\n",
    "from utils import Url\n",
    "\n",
    "from pandas.plotting import register_matplotlib_converters\n",
    "register_matplotlib_converters()"
   ]
  },
  {
   "cell_type": "markdown",
   "metadata": {},
   "source": [
    "### Enter Gage ID and State"
   ]
  },
  {
   "cell_type": "code",
   "execution_count": 2,
   "metadata": {},
   "outputs": [],
   "source": [
    "gage = \"03221646\"\n",
    "state = \"OH\""
   ]
  },
  {
   "cell_type": "markdown",
   "metadata": {},
   "source": [
    "---\n",
    "\n",
    "# I. Peak Streamflow\n",
    "\n",
    "### Generate URL's"
   ]
  },
  {
   "cell_type": "code",
   "execution_count": 3,
   "metadata": {},
   "outputs": [
    {
     "data": {
      "text/html": [
       "<a href=\"https://waterdata.usgs.gov/nwis/inventory?agency_code=USGS&site_no=03221646\">https://waterdata.usgs.gov/nwis/inventory?agency_code=USGS&site_no=03221646</a>"
      ],
      "text/plain": [
       "Url(_Url__url='https://waterdata.usgs.gov/nwis/inventory?agency_code=USGS&site_no=03221646')"
      ]
     },
     "execution_count": 3,
     "metadata": {},
     "output_type": "execute_result"
    }
   ],
   "source": [
    "# Auto generate url string\n",
    "stats_uri = f'https://nwis.waterdata.usgs.gov/{state}/nwis/peak?site_no={gage}&agency_cd=USGS&format=rdb'\n",
    "alt_stats_uri = f'https://nwis.waterdata.usgs.gov/usa/nwis/peak/?site_no={gage}'\n",
    "gage_url = f'https://waterdata.usgs.gov/nwis/inventory?agency_code=USGS&site_no={gage}'\n",
    "\n",
    "# Print Clickable Link\n",
    "Url(gage_url)"
   ]
  },
  {
   "cell_type": "markdown",
   "metadata": {},
   "source": [
    "### Retrieve Metadata"
   ]
  },
  {
   "cell_type": "code",
   "execution_count": 4,
   "metadata": {},
   "outputs": [
    {
     "name": "stdout",
     "output_type": "stream",
     "text": [
      "#\n",
      "# U.S. Geological Survey\n",
      "# National Water Information System\n",
      "# Retrieved: 2020-05-30 11:52:11 EDT\n",
      "#\n",
      "# ---------------------------------- WARNING ----------------------------------------\n",
      "# Some of the data that you have obtained from this U.S. Geological Survey database\n",
      "# may not have received Director's approval. Any such data values are qualified\n",
      "# as provisional and are subject to revision. Provisional data are released on the\n",
      "# condition that neither the USGS nor the United States Government may be held liable\n",
      "# for any damages resulting from its use.\n",
      "#\n",
      "# More data may be available offline.\n",
      "# For more information on these data,  contact  Ohio Water Data Inquiries.\n",
      "# This file contains the annual peak streamflow data.\n",
      "#\n",
      "# This information includes the following fields:\n",
      "#\n",
      "#  agency_cd     Agency Code\n",
      "#  site_no       USGS station number\n",
      "#  peak_dt       Date of peak streamflow (format YYYY-MM-DD)\n",
      "#  peak_tm       Time of peak streamflow (24 hour format, 00:00 - 23:59)\n",
      "#  peak_va       Annual peak streamflow value in cfs\n",
      "#  peak_cd       Peak Discharge-Qualification codes (see explanation below)\n",
      "#  gage_ht       Gage height for the associated peak streamflow in feet\n",
      "#  gage_ht_cd    Gage height qualification codes\n",
      "#  year_last_pk  Peak streamflow reported is the highest since this year\n",
      "#  ag_dt         Date of maximum gage-height for water year (if not concurrent with peak)\n",
      "#  ag_tm         Time of maximum gage-height for water year (if not concurrent with peak\n",
      "#  ag_gage_ht    maximum Gage height for water year in feet (if not concurrent with peak\n",
      "#  ag_gage_ht_cd maximum Gage height code\n",
      "#\n",
      "# Sites in this file include:\n",
      "#  USGS 03221646 Scioto River at 5th Ave at Columbus OH\n",
      "#\n",
      "# Peak Streamflow-Qualification Codes(peak_cd):\n",
      "#   1 ... Discharge is a Maximum Daily Average\n",
      "#   2 ... Discharge is an Estimate\n",
      "#   3 ... Discharge affected by Dam Failure\n",
      "#   4 ... Discharge less than indicated value,\n",
      "#           which is Minimum Recordable Discharge at this site\n",
      "#   5 ... Discharge affected to unknown degree by\n",
      "#           Regulation or Diversion\n",
      "#   6 ... Discharge affected by Regulation or Diversion\n",
      "#   7 ... Discharge is an Historic Peak\n",
      "#   8 ... Discharge actually greater than indicated value\n",
      "#   9 ... Discharge due to Snowmelt, Hurricane,\n",
      "#           Ice-Jam or Debris Dam breakup\n",
      "#   A ... Year of occurrence is unknown or not exact\n",
      "#   Bd ... Day of occurrence is unknown or not exact\n",
      "#   Bm ... Month of occurrence is unknown or not exact\n",
      "#   C ... All or part of the record affected by Urbanization,\n",
      "#            Mining, Agricultural changes, Channelization, or other\n",
      "#   F ... Peak supplied by another agency\n",
      "#   O ... Opportunistic value not from systematic data collection\n",
      "#   R ... Revised\n",
      "#\n",
      "# Gage height qualification codes(gage_ht_cd,ag_gage_ht_cd):\n",
      "#   1 ... Gage height affected by backwater\n",
      "#   2 ... Gage height not the maximum for the year\n",
      "#   3 ... Gage height at different site and(or) datum\n",
      "#   4 ... Gage height below minimum recordable elevation\n",
      "#   5 ... Gage height is an estimate\n",
      "#   6 ... Gage datum changed during this year\n",
      "#   7 ... Debris, mud, or hyper-concentrated flow\n",
      "#   8 ... Gage height tidally affected\n",
      "#   Bd ... Day of occurrence is unknown or not exact\n",
      "#   Bm ... Month of occurrence is unknown or not exact\n",
      "#   F ... Peak supplied by another agency\n",
      "#   R ... Revised\n",
      "#\n",
      "#\n"
     ]
    }
   ],
   "source": [
    "r = requests.get(stats_uri)\n",
    "response_text = r.text.split('\\n')\n",
    "\n",
    "if not r.ok or '<!DOCTYPE html>' in response_text:\n",
    "    print(f\"No Content Found!\\n\\n Verify Site info using Link Above\")\n",
    "    r = requests.get(alt_stats_uri)\n",
    "    stats_uri = f'https://nwis.waterdata.usgs.gov/nwis/peak?site_no={gage}&agency_cd=USGS&format=rdb'\n",
    "    if not r.ok:\n",
    "        print(f\"Strike 2: No Peak Flow for this site!\\n Verify Site info using Link Above\") \n",
    "\n",
    "    \n",
    "if r.ok and \"No sites/data found\" not in r.text:\n",
    "    for line in response_text:\n",
    "        if \"#\" in line:\n",
    "            print(line.replace('\\t',''))\n",
    "else:\n",
    "    print(f\"No Data: Please verify site and state info or click link above\") "
   ]
  },
  {
   "cell_type": "markdown",
   "metadata": {},
   "source": [
    "### Get tabular data"
   ]
  },
  {
   "cell_type": "code",
   "execution_count": 5,
   "metadata": {},
   "outputs": [],
   "source": [
    "# df = pd.read_table(stats_uri, comment = \"#\")\n",
    "# df.head()"
   ]
  },
  {
   "cell_type": "code",
   "execution_count": 6,
   "metadata": {},
   "outputs": [
    {
     "data": {
      "text/html": [
       "<div>\n",
       "<style scoped>\n",
       "    .dataframe tbody tr th:only-of-type {\n",
       "        vertical-align: middle;\n",
       "    }\n",
       "\n",
       "    .dataframe tbody tr th {\n",
       "        vertical-align: top;\n",
       "    }\n",
       "\n",
       "    .dataframe thead th {\n",
       "        text-align: right;\n",
       "    }\n",
       "</style>\n",
       "<table border=\"1\" class=\"dataframe\">\n",
       "  <thead>\n",
       "    <tr style=\"text-align: right;\">\n",
       "      <th></th>\n",
       "      <th>agency_cd</th>\n",
       "      <th>site_no</th>\n",
       "      <th>peak_dt</th>\n",
       "      <th>peak_tm</th>\n",
       "      <th>peak_va</th>\n",
       "      <th>peak_cd</th>\n",
       "      <th>gage_ht</th>\n",
       "      <th>gage_ht_cd</th>\n",
       "      <th>year_last_pk</th>\n",
       "      <th>ag_dt</th>\n",
       "      <th>ag_tm</th>\n",
       "      <th>ag_gage_ht</th>\n",
       "      <th>ag_gage_ht_cd</th>\n",
       "    </tr>\n",
       "  </thead>\n",
       "  <tbody>\n",
       "    <tr>\n",
       "      <td>0</td>\n",
       "      <td>USGS</td>\n",
       "      <td>03221646</td>\n",
       "      <td>2015-06-20</td>\n",
       "      <td>NaN</td>\n",
       "      <td>16100</td>\n",
       "      <td>6</td>\n",
       "      <td>20.64</td>\n",
       "      <td>NaN</td>\n",
       "      <td>NaN</td>\n",
       "      <td>NaN</td>\n",
       "      <td>NaN</td>\n",
       "      <td>NaN</td>\n",
       "      <td>NaN</td>\n",
       "    </tr>\n",
       "    <tr>\n",
       "      <td>1</td>\n",
       "      <td>USGS</td>\n",
       "      <td>03221646</td>\n",
       "      <td>2015-12-29</td>\n",
       "      <td>NaN</td>\n",
       "      <td>11400</td>\n",
       "      <td>6</td>\n",
       "      <td>17.39</td>\n",
       "      <td>NaN</td>\n",
       "      <td>NaN</td>\n",
       "      <td>NaN</td>\n",
       "      <td>NaN</td>\n",
       "      <td>NaN</td>\n",
       "      <td>NaN</td>\n",
       "    </tr>\n",
       "    <tr>\n",
       "      <td>2</td>\n",
       "      <td>USGS</td>\n",
       "      <td>03221646</td>\n",
       "      <td>2017-05-06</td>\n",
       "      <td>NaN</td>\n",
       "      <td>8000</td>\n",
       "      <td>6</td>\n",
       "      <td>14.83</td>\n",
       "      <td>NaN</td>\n",
       "      <td>NaN</td>\n",
       "      <td>NaN</td>\n",
       "      <td>NaN</td>\n",
       "      <td>NaN</td>\n",
       "      <td>NaN</td>\n",
       "    </tr>\n",
       "    <tr>\n",
       "      <td>3</td>\n",
       "      <td>USGS</td>\n",
       "      <td>03221646</td>\n",
       "      <td>2018-04-04</td>\n",
       "      <td>03:45</td>\n",
       "      <td>20300</td>\n",
       "      <td>NaN</td>\n",
       "      <td>22.63</td>\n",
       "      <td>NaN</td>\n",
       "      <td>NaN</td>\n",
       "      <td>NaN</td>\n",
       "      <td>NaN</td>\n",
       "      <td>NaN</td>\n",
       "      <td>NaN</td>\n",
       "    </tr>\n",
       "    <tr>\n",
       "      <td>4</td>\n",
       "      <td>USGS</td>\n",
       "      <td>03221646</td>\n",
       "      <td>2019-02-08</td>\n",
       "      <td>03:23</td>\n",
       "      <td>16600</td>\n",
       "      <td>NaN</td>\n",
       "      <td>20.37</td>\n",
       "      <td>NaN</td>\n",
       "      <td>NaN</td>\n",
       "      <td>NaN</td>\n",
       "      <td>NaN</td>\n",
       "      <td>NaN</td>\n",
       "      <td>NaN</td>\n",
       "    </tr>\n",
       "  </tbody>\n",
       "</table>\n",
       "</div>"
      ],
      "text/plain": [
       "  agency_cd   site_no    peak_dt peak_tm  peak_va peak_cd gage_ht gage_ht_cd  \\\n",
       "0      USGS  03221646 2015-06-20     NaN    16100       6   20.64        NaN   \n",
       "1      USGS  03221646 2015-12-29     NaN    11400       6   17.39        NaN   \n",
       "2      USGS  03221646 2017-05-06     NaN     8000       6   14.83        NaN   \n",
       "3      USGS  03221646 2018-04-04   03:45    20300     NaN   22.63        NaN   \n",
       "4      USGS  03221646 2019-02-08   03:23    16600     NaN   20.37        NaN   \n",
       "\n",
       "  year_last_pk ag_dt ag_tm ag_gage_ht ag_gage_ht_cd  \n",
       "0          NaN   NaN   NaN        NaN           NaN  \n",
       "1          NaN   NaN   NaN        NaN           NaN  \n",
       "2          NaN   NaN   NaN        NaN           NaN  \n",
       "3          NaN   NaN   NaN        NaN           NaN  \n",
       "4          NaN   NaN   NaN        NaN           NaN  "
      ]
     },
     "execution_count": 6,
     "metadata": {},
     "output_type": "execute_result"
    }
   ],
   "source": [
    "df = pd.read_table(stats_uri, comment = \"#\")\n",
    "df = df[1:].reset_index(drop=True)\n",
    "\n",
    "if 'peak_va' in df.columns:\n",
    "    df['peak_va'] = pd.to_numeric(df['peak_va'] )\n",
    "    df['peak_dt'] = pd.to_datetime(df['peak_dt'])\n",
    "else:\n",
    "    print(\"No Peak Streamflow Found in Data!\")\n",
    "\n",
    "# Preview Data\n",
    "df.head()"
   ]
  },
  {
   "cell_type": "markdown",
   "metadata": {},
   "source": [
    "###  Plot Results"
   ]
  },
  {
   "cell_type": "code",
   "execution_count": 7,
   "metadata": {},
   "outputs": [
    {
     "data": {
      "image/png": "[encoded data removed]",
      "text/plain": [
       "<Figure size 1440x432 with 1 Axes>"
      ]
     },
     "metadata": {
      "needs_background": "light"
     },
     "output_type": "display_data"
    }
   ],
   "source": [
    "if '# Sites in this file include:\\r' in response_text:\n",
    "    idx = response_text.index('# Sites in this file include:\\r') + 1\n",
    "    gage_id_text = response_text[idx].replace('\\r','').replace('#  ','')\n",
    "else:\n",
    "    gage_id_text = gage\n",
    "\n",
    "fig, ax = plt.subplots(figsize=(20,6))\n",
    "ax.scatter(x= df.peak_dt.values, y = df.peak_va.values,  color=\"none\", edgecolor=\"blue\");ax.grid();\n",
    "ax.set_title(gage_id_text);"
   ]
  },
  {
   "cell_type": "markdown",
   "metadata": {},
   "source": [
    "---\n",
    "\n",
    "## II. Daily Streamflow\n",
    "\n",
    "### Enter Starting Year\n",
    "\n",
    "NOTE: Retrieves data by *Water Year*\n",
    "\n"
   ]
  },
  {
   "cell_type": "code",
   "execution_count": 8,
   "metadata": {},
   "outputs": [],
   "source": [
    "year = 2018"
   ]
  },
  {
   "cell_type": "markdown",
   "metadata": {},
   "source": [
    "### Generate URL"
   ]
  },
  {
   "cell_type": "code",
   "execution_count": 9,
   "metadata": {},
   "outputs": [
    {
     "data": {
      "text/html": [
       "<a href=\"https://waterdata.usgs.gov/nwis/inventory?agency_code=USGS&site_no=03221646\">https://waterdata.usgs.gov/nwis/inventory?agency_code=USGS&site_no=03221646</a>"
      ],
      "text/plain": [
       "Url(_Url__url='https://waterdata.usgs.gov/nwis/inventory?agency_code=USGS&site_no=03221646')"
      ]
     },
     "execution_count": 9,
     "metadata": {},
     "output_type": "execute_result"
    }
   ],
   "source": [
    "# Auto generate url string\n",
    "daily_uri = f\"https://waterdata.usgs.gov/{state}/nwis/dv?cb_00060=on&format=rdb&site_no={gage}&referred_module=sw&period=&begin_date={year-1}-10-01&end_date={year}-9-30\"\n",
    "\n",
    "# Print Clickable Link\n",
    "Url(gage_url)"
   ]
  },
  {
   "cell_type": "markdown",
   "metadata": {},
   "source": [
    "### Retrieve Metadata"
   ]
  },
  {
   "cell_type": "code",
   "execution_count": 10,
   "metadata": {},
   "outputs": [
    {
     "name": "stdout",
     "output_type": "stream",
     "text": [
      "# ---------------------------------- WARNING ----------------------------------------\n",
      "# Some of the data that you have obtained from this U.S. Geological Survey database\n",
      "# may not have received Director's approval. Any such data values are qualified\n",
      "# as provisional and are subject to revision. Provisional data are released on the\n",
      "# condition that neither the USGS nor the United States Government may be held liable\n",
      "# for any damages resulting from its use.\n",
      "#\n",
      "# Additional info: https://help.waterdata.usgs.gov/policies/provisional-data-statement\n",
      "#\n",
      "# File-format description:  https://help.waterdata.usgs.gov/faq/about-tab-delimited-output\n",
      "# Automated-retrieval info: https://help.waterdata.usgs.gov/faq/automated-retrievals\n",
      "#\n",
      "# Contact:   gs-w_support_nwisweb@usgs.gov\n",
      "# retrieved: 2020-05-30 11:52:12 EDT       (vaww01)\n",
      "#\n",
      "# Data for the following 1 site(s) are contained in this file\n",
      "#    USGS 03221646 Scioto River at 5th Ave at Columbus OH\n",
      "# -----------------------------------------------------------------------------------\n",
      "#\n",
      "# Data provided for site 03221646\n",
      "#            TS   parameter     statistic     Description\n",
      "#        109046       00060     00003     Discharge, cubic feet per second (Mean)\n",
      "#\n",
      "# Data-value qualification codes included in this output:\n",
      "#     A  Approved for publication -- Processing and review completed.\n",
      "#     e  Value has been estimated.\n",
      "# \n"
     ]
    }
   ],
   "source": [
    "r = requests.get(daily_uri)\n",
    "response_text = r.text.split('\\n')\n",
    "\n",
    "if not r.ok or '<!DOCTYPE html>' in response_text:\n",
    "    print(f\"No Content Found!\\n\\n Verify Site info using Link Above\")\n",
    "    \n",
    "if r.ok and \"No sites/data found\" not in r.text:\n",
    "    for line in response_text:\n",
    "        if \"#\" in line:\n",
    "            print(line.replace('\\t',''))\n",
    "else:\n",
    "    print(f\"No Data: Please verify site and state info or click link above\") "
   ]
  },
  {
   "cell_type": "markdown",
   "metadata": {},
   "source": [
    "### Get tabular data"
   ]
  },
  {
   "cell_type": "code",
   "execution_count": 11,
   "metadata": {},
   "outputs": [
    {
     "data": {
      "text/html": [
       "<div>\n",
       "<style scoped>\n",
       "    .dataframe tbody tr th:only-of-type {\n",
       "        vertical-align: middle;\n",
       "    }\n",
       "\n",
       "    .dataframe tbody tr th {\n",
       "        vertical-align: top;\n",
       "    }\n",
       "\n",
       "    .dataframe thead th {\n",
       "        text-align: right;\n",
       "    }\n",
       "</style>\n",
       "<table border=\"1\" class=\"dataframe\">\n",
       "  <thead>\n",
       "    <tr style=\"text-align: right;\">\n",
       "      <th></th>\n",
       "      <th>agency_cd</th>\n",
       "      <th>site_no</th>\n",
       "      <th>datetime</th>\n",
       "      <th>109046_00060_00003</th>\n",
       "      <th>109046_00060_00003_cd</th>\n",
       "    </tr>\n",
       "  </thead>\n",
       "  <tbody>\n",
       "    <tr>\n",
       "      <td>0</td>\n",
       "      <td>USGS</td>\n",
       "      <td>03221646</td>\n",
       "      <td>2017-10-01</td>\n",
       "      <td>98.9</td>\n",
       "      <td>A</td>\n",
       "    </tr>\n",
       "    <tr>\n",
       "      <td>1</td>\n",
       "      <td>USGS</td>\n",
       "      <td>03221646</td>\n",
       "      <td>2017-10-02</td>\n",
       "      <td>98.0</td>\n",
       "      <td>A</td>\n",
       "    </tr>\n",
       "    <tr>\n",
       "      <td>2</td>\n",
       "      <td>USGS</td>\n",
       "      <td>03221646</td>\n",
       "      <td>2017-10-03</td>\n",
       "      <td>103</td>\n",
       "      <td>A</td>\n",
       "    </tr>\n",
       "    <tr>\n",
       "      <td>3</td>\n",
       "      <td>USGS</td>\n",
       "      <td>03221646</td>\n",
       "      <td>2017-10-04</td>\n",
       "      <td>105</td>\n",
       "      <td>A</td>\n",
       "    </tr>\n",
       "    <tr>\n",
       "      <td>4</td>\n",
       "      <td>USGS</td>\n",
       "      <td>03221646</td>\n",
       "      <td>2017-10-05</td>\n",
       "      <td>167</td>\n",
       "      <td>A</td>\n",
       "    </tr>\n",
       "  </tbody>\n",
       "</table>\n",
       "</div>"
      ],
      "text/plain": [
       "  agency_cd   site_no   datetime 109046_00060_00003 109046_00060_00003_cd\n",
       "0      USGS  03221646 2017-10-01               98.9                     A\n",
       "1      USGS  03221646 2017-10-02               98.0                     A\n",
       "2      USGS  03221646 2017-10-03                103                     A\n",
       "3      USGS  03221646 2017-10-04                105                     A\n",
       "4      USGS  03221646 2017-10-05                167                     A"
      ]
     },
     "execution_count": 11,
     "metadata": {},
     "output_type": "execute_result"
    }
   ],
   "source": [
    "df = pd.read_table(daily_uri, comment = \"#\")\n",
    "df = df[1:].reset_index(drop=True)\n",
    "\n",
    "if 'datetime' in df.columns:\n",
    "    df['datetime'] = pd.to_datetime(df['datetime'])\n",
    "else:\n",
    "    print(\"No Peak Streamflow Found in Data!\")\n",
    "\n",
    "# Preview Data\n",
    "df.head()"
   ]
  },
  {
   "cell_type": "markdown",
   "metadata": {},
   "source": [
    "### Select Column Name from table/metadata for daily flow vaules"
   ]
  },
  {
   "cell_type": "code",
   "execution_count": 14,
   "metadata": {},
   "outputs": [],
   "source": [
    "daily_flow_col = \"109046_00060_00003\""
   ]
  },
  {
   "cell_type": "markdown",
   "metadata": {},
   "source": [
    "### Format Data "
   ]
  },
  {
   "cell_type": "code",
   "execution_count": 15,
   "metadata": {},
   "outputs": [],
   "source": [
    "# Convert the flow data to numeric\n",
    "df[daily_flow_col] = pd.to_numeric(df[daily_flow_col])\n",
    "\n",
    "# Get Gage ID info\n",
    "if '# Sites in this file include:\\r' in response_text:\n",
    "    idx = response_text.index('# Sites in this file include:\\r') + 1\n",
    "    gage_id_text = response_text[idx].replace('\\r','').replace('#  ','')\n",
    "else:\n",
    "    gage_id_text = gage"
   ]
  },
  {
   "cell_type": "markdown",
   "metadata": {},
   "source": [
    "### Plot Results"
   ]
  },
  {
   "cell_type": "code",
   "execution_count": 16,
   "metadata": {},
   "outputs": [
    {
     "data": {
      "image/png": "[encoded data removed]",
      "text/plain": [
       "<Figure size 2016x288 with 1 Axes>"
      ]
     },
     "metadata": {
      "needs_background": "light"
     },
     "output_type": "display_data"
    }
   ],
   "source": [
    "fig, ax = plt.subplots(figsize=(28,4))\n",
    "ax.plot(df.datetime,df[daily_flow_col].values,  color=\"black\");ax.grid();\n",
    "ax.set_title(f'{gage_id_text}\\nDaily Flow for Water Year {year}');"
   ]
  },
  {
   "cell_type": "markdown",
   "metadata": {},
   "source": [
    "---\n",
    "\n",
    "## III. Instantaneous Streamflow\n",
    "\n",
    "### Enter Starting and Ending Dates\n"
   ]
  },
  {
   "cell_type": "code",
   "execution_count": 17,
   "metadata": {},
   "outputs": [],
   "source": [
    "start_date = \"2018-05-09\"\n",
    "end_date = \"2019-05-31\""
   ]
  },
  {
   "cell_type": "markdown",
   "metadata": {},
   "source": [
    "### Generate URL"
   ]
  },
  {
   "cell_type": "code",
   "execution_count": 18,
   "metadata": {},
   "outputs": [],
   "source": [
    "# Auto generate url string\n",
    "instantaneous_uri = f\"https://waterservices.usgs.gov/nwis/iv/?format=rdb&sites={gage}&startDT={start_date}&endDT={end_date}&parameterCd=00060&siteStatus=all\""
   ]
  },
  {
   "cell_type": "markdown",
   "metadata": {},
   "source": [
    "### Retrieve Metadata"
   ]
  },
  {
   "cell_type": "code",
   "execution_count": 19,
   "metadata": {},
   "outputs": [
    {
     "name": "stdout",
     "output_type": "stream",
     "text": [
      "# ---------------------------------- WARNING ----------------------------------------\n",
      "# Some of the data that you have obtained from this U.S. Geological Survey database may not \n",
      "# have received Director's approval.  Any such data values are qualified as provisional and \n",
      "# are subject to revision.  Provisional data are released on the condition that neither the \n",
      "# USGS nor the United States Government may be held liable for any damages resulting from its use.\n",
      "#  Go to http://help.waterdata.usgs.gov/policies/provisional-data-statement for more information.\n",
      "#\n",
      "# File-format description:  http://help.waterdata.usgs.gov/faq/about-tab-delimited-output\n",
      "# Automated-retrieval info: http://help.waterdata.usgs.gov/faq/automated-retrievals\n",
      "#\n",
      "# Contact:   gs-w_support_nwisweb@usgs.gov\n",
      "# retrieved: 2020-05-30 11:52:30 -04:00(nadww02)\n",
      "#\n",
      "# Data for the following 1 site(s) are contained in this file\n",
      "#    USGS 03221646 Scioto River at 5th Ave at Columbus OH\n",
      "# -----------------------------------------------------------------------------------\n",
      "#\n",
      "# TS_ID - An internal number representing a time series.\n",
      "#\n",
      "# Data provided for site 03221646\n",
      "#    TS_ID       Parameter Description\n",
      "#    110317      00060     Discharge, cubic feet per second\n",
      "#\n",
      "# Data-value qualification codes included in this output:\n",
      "#     A  Approved for publication -- Processing and review completed.\n",
      "#     e  Value has been estimated.\n",
      "#\n"
     ]
    }
   ],
   "source": [
    "r = requests.get(instantaneous_uri)\n",
    "response_text = r.text.split('\\n')\n",
    "\n",
    "if not r.ok or '<!DOCTYPE html>' in response_text:\n",
    "    print(f\"No Content Found!\\n\\n Verify Site info using Link Above\")\n",
    "    \n",
    "if r.ok and \"No sites/data found\" not in r.text:\n",
    "    for line in response_text:\n",
    "        if \"#\" in line:\n",
    "            print(line.replace('\\t',''))\n",
    "else:\n",
    "    print(f\"No Data: Please verify site and state info or click link above\") "
   ]
  },
  {
   "cell_type": "markdown",
   "metadata": {},
   "source": [
    "### Get tabular data"
   ]
  },
  {
   "cell_type": "code",
   "execution_count": 20,
   "metadata": {},
   "outputs": [
    {
     "data": {
      "text/html": [
       "<div>\n",
       "<style scoped>\n",
       "    .dataframe tbody tr th:only-of-type {\n",
       "        vertical-align: middle;\n",
       "    }\n",
       "\n",
       "    .dataframe tbody tr th {\n",
       "        vertical-align: top;\n",
       "    }\n",
       "\n",
       "    .dataframe thead th {\n",
       "        text-align: right;\n",
       "    }\n",
       "</style>\n",
       "<table border=\"1\" class=\"dataframe\">\n",
       "  <thead>\n",
       "    <tr style=\"text-align: right;\">\n",
       "      <th></th>\n",
       "      <th>agency_cd</th>\n",
       "      <th>site_no</th>\n",
       "      <th>datetime</th>\n",
       "      <th>tz_cd</th>\n",
       "      <th>110317_00060</th>\n",
       "      <th>110317_00060_cd</th>\n",
       "    </tr>\n",
       "  </thead>\n",
       "  <tbody>\n",
       "    <tr>\n",
       "      <td>0</td>\n",
       "      <td>USGS</td>\n",
       "      <td>03221646</td>\n",
       "      <td>2018-05-09 00:00:00</td>\n",
       "      <td>EDT</td>\n",
       "      <td>279</td>\n",
       "      <td>A</td>\n",
       "    </tr>\n",
       "    <tr>\n",
       "      <td>1</td>\n",
       "      <td>USGS</td>\n",
       "      <td>03221646</td>\n",
       "      <td>2018-05-09 00:15:00</td>\n",
       "      <td>EDT</td>\n",
       "      <td>279</td>\n",
       "      <td>A</td>\n",
       "    </tr>\n",
       "    <tr>\n",
       "      <td>2</td>\n",
       "      <td>USGS</td>\n",
       "      <td>03221646</td>\n",
       "      <td>2018-05-09 00:30:00</td>\n",
       "      <td>EDT</td>\n",
       "      <td>279</td>\n",
       "      <td>A</td>\n",
       "    </tr>\n",
       "    <tr>\n",
       "      <td>3</td>\n",
       "      <td>USGS</td>\n",
       "      <td>03221646</td>\n",
       "      <td>2018-05-09 00:45:00</td>\n",
       "      <td>EDT</td>\n",
       "      <td>283</td>\n",
       "      <td>A</td>\n",
       "    </tr>\n",
       "    <tr>\n",
       "      <td>4</td>\n",
       "      <td>USGS</td>\n",
       "      <td>03221646</td>\n",
       "      <td>2018-05-09 01:00:00</td>\n",
       "      <td>EDT</td>\n",
       "      <td>279</td>\n",
       "      <td>A</td>\n",
       "    </tr>\n",
       "  </tbody>\n",
       "</table>\n",
       "</div>"
      ],
      "text/plain": [
       "  agency_cd   site_no            datetime tz_cd 110317_00060 110317_00060_cd\n",
       "0      USGS  03221646 2018-05-09 00:00:00   EDT          279               A\n",
       "1      USGS  03221646 2018-05-09 00:15:00   EDT          279               A\n",
       "2      USGS  03221646 2018-05-09 00:30:00   EDT          279               A\n",
       "3      USGS  03221646 2018-05-09 00:45:00   EDT          283               A\n",
       "4      USGS  03221646 2018-05-09 01:00:00   EDT          279               A"
      ]
     },
     "execution_count": 20,
     "metadata": {},
     "output_type": "execute_result"
    }
   ],
   "source": [
    "df = pd.read_table(instantaneous_uri, comment = \"#\")\n",
    "df = df[1:].reset_index(drop=True)\n",
    "\n",
    "if 'datetime' in df.columns:\n",
    "    df['datetime'] = pd.to_datetime(df['datetime'])\n",
    "else:\n",
    "    print(\"No Peak Streamflow Found in Data!\")\n",
    "\n",
    "# Preview Data\n",
    "df.head()"
   ]
  },
  {
   "cell_type": "markdown",
   "metadata": {},
   "source": [
    "### Select Column Name from table/metadata for daily flow vaules"
   ]
  },
  {
   "cell_type": "code",
   "execution_count": 23,
   "metadata": {},
   "outputs": [],
   "source": [
    "inst_flow_col = \"110317_00060\""
   ]
  },
  {
   "cell_type": "markdown",
   "metadata": {},
   "source": [
    "### Format Data "
   ]
  },
  {
   "cell_type": "code",
   "execution_count": 24,
   "metadata": {},
   "outputs": [],
   "source": [
    "# Convert the flow data to numeric\n",
    "df[inst_flow_col] = pd.to_numeric(df[inst_flow_col])\n",
    "\n",
    "# Get Gage ID info\n",
    "if '# Sites in this file include:\\r' in response_text:\n",
    "    idx = response_text.index('# Sites in this file include:\\r') + 1\n",
    "    gage_id_text = response_text[idx].replace('\\r','').replace('#  ','')\n",
    "else:\n",
    "    gage_id_text = gage"
   ]
  },
  {
   "cell_type": "markdown",
   "metadata": {},
   "source": [
    "###  Plot Results"
   ]
  },
  {
   "cell_type": "code",
   "execution_count": 25,
   "metadata": {},
   "outputs": [
    {
     "data": {
      "image/png": "[encoded data removed]",
      "text/plain": [
       "<Figure size 2016x288 with 1 Axes>"
      ]
     },
     "metadata": {
      "needs_background": "light"
     },
     "output_type": "display_data"
    }
   ],
   "source": [
    "fig, ax = plt.subplots(figsize=(28,4))\n",
    "ax.plot(df.datetime,df[inst_flow_col].values,  color=\"blue\");ax.grid();\n",
    "ax.set_title(f'{gage_id_text}\\nInstantaneous Flow');"
   ]
  },
  {
   "cell_type": "markdown",
   "metadata": {},
   "source": [
    "# END"
   ]
  }
 ],
 "metadata": {
  "kernelspec": {
   "display_name": "Python 3",
   "language": "python",
   "name": "python3"
  },
  "language_info": {
   "codemirror_mode": {
    "name": "ipython",
    "version": 3
   },
   "file_extension": ".py",
   "mimetype": "text/x-python",
   "name": "python",
   "nbconvert_exporter": "python",
   "pygments_lexer": "ipython3",
   "version": "3.7.4"
  }
 },
 "nbformat": 4,
 "nbformat_minor": 4
}
